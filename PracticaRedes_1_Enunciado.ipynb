{
 "cells": [
  {
   "cell_type": "markdown",
   "metadata": {
    "id": "qG2PgWpjnBVN"
   },
   "source": [
    "# REDES NEURONALES PRACTICA 1"
   ]
  },
  {
   "cell_type": "code",
   "execution_count": 1,
   "metadata": {
    "executionInfo": {
     "elapsed": 637,
     "status": "ok",
     "timestamp": 1614079110382,
     "user": {
      "displayName": "Julen Dataset",
      "photoUrl": "https://lh3.googleusercontent.com/a-/AOh14Giq-f3rSLaK9Xg9nPactpHfZnUh2cXH6YeJHUem=s64",
      "userId": "13639526373996704721"
     },
     "user_tz": -60
    },
    "id": "7n4epoDrnBVS"
   },
   "outputs": [
    {
     "ename": "ModuleNotFoundError",
     "evalue": "No module named 'keras'",
     "output_type": "error",
     "traceback": [
      "\u001b[1;31m---------------------------------------------------------------------------\u001b[0m",
      "\u001b[1;31mModuleNotFoundError\u001b[0m                       Traceback (most recent call last)",
      "\u001b[1;32m<ipython-input-1-3acd0a25da3e>\u001b[0m in \u001b[0;36m<module>\u001b[1;34m\u001b[0m\n\u001b[0;32m      3\u001b[0m \u001b[1;32mfrom\u001b[0m \u001b[0msklearn\u001b[0m\u001b[1;33m.\u001b[0m\u001b[0mmodel_selection\u001b[0m \u001b[1;32mimport\u001b[0m \u001b[0mtrain_test_split\u001b[0m\u001b[1;33m\u001b[0m\u001b[1;33m\u001b[0m\u001b[0m\n\u001b[0;32m      4\u001b[0m \u001b[1;33m\u001b[0m\u001b[0m\n\u001b[1;32m----> 5\u001b[1;33m \u001b[1;32mimport\u001b[0m \u001b[0mkeras\u001b[0m\u001b[1;33m\u001b[0m\u001b[1;33m\u001b[0m\u001b[0m\n\u001b[0m\u001b[0;32m      6\u001b[0m \u001b[1;32mfrom\u001b[0m \u001b[0mkeras\u001b[0m\u001b[1;33m.\u001b[0m\u001b[0mmodels\u001b[0m \u001b[1;32mimport\u001b[0m \u001b[0mSequential\u001b[0m\u001b[1;33m\u001b[0m\u001b[1;33m\u001b[0m\u001b[0m\n\u001b[0;32m      7\u001b[0m \u001b[1;32mfrom\u001b[0m \u001b[0mkeras\u001b[0m\u001b[1;33m.\u001b[0m\u001b[0mlayers\u001b[0m \u001b[1;32mimport\u001b[0m \u001b[0mDense\u001b[0m\u001b[1;33m,\u001b[0m \u001b[0mDropout\u001b[0m\u001b[1;33m\u001b[0m\u001b[1;33m\u001b[0m\u001b[0m\n",
      "\u001b[1;31mModuleNotFoundError\u001b[0m: No module named 'keras'"
     ]
    }
   ],
   "source": [
    "import numpy as np\n",
    "import pandas as pd\n",
    "from sklearn.model_selection import train_test_split\n",
    "\n",
    "import keras\n",
    "from keras.models import Sequential\n",
    "from keras.layers import Dense, Dropout\n",
    "from keras.optimizers import SGD, Adam\n",
    "import warnings\n",
    "warnings.filterwarnings('ignore')"
   ]
  },
  {
   "cell_type": "markdown",
   "metadata": {
    "id": "ialhZ1OGnBVT"
   },
   "source": [
    "## Importación de datos"
   ]
  },
  {
   "cell_type": "code",
   "execution_count": 14,
   "metadata": {
    "colab": {
     "base_uri": "https://localhost:8080/",
     "height": 224
    },
    "executionInfo": {
     "elapsed": 594,
     "status": "ok",
     "timestamp": 1614084416799,
     "user": {
      "displayName": "Julen Dataset",
      "photoUrl": "https://lh3.googleusercontent.com/a-/AOh14Giq-f3rSLaK9Xg9nPactpHfZnUh2cXH6YeJHUem=s64",
      "userId": "13639526373996704721"
     },
     "user_tz": -60
    },
    "id": "oRMbs2QinBVT",
    "outputId": "2e5d5683-630f-4307-91d3-a87f1af598b8"
   },
   "outputs": [
    {
     "data": {
      "text/html": [
       "<div>\n",
       "<style scoped>\n",
       "    .dataframe tbody tr th:only-of-type {\n",
       "        vertical-align: middle;\n",
       "    }\n",
       "\n",
       "    .dataframe tbody tr th {\n",
       "        vertical-align: top;\n",
       "    }\n",
       "\n",
       "    .dataframe thead th {\n",
       "        text-align: right;\n",
       "    }\n",
       "</style>\n",
       "<table border=\"1\" class=\"dataframe\">\n",
       "  <thead>\n",
       "    <tr style=\"text-align: right;\">\n",
       "      <th></th>\n",
       "      <th>battery_power</th>\n",
       "      <th>blue</th>\n",
       "      <th>clock_speed</th>\n",
       "      <th>dual_sim</th>\n",
       "      <th>fc</th>\n",
       "      <th>four_g</th>\n",
       "      <th>int_memory</th>\n",
       "      <th>m_dep</th>\n",
       "      <th>mobile_wt</th>\n",
       "      <th>n_cores</th>\n",
       "      <th>pc</th>\n",
       "      <th>px_height</th>\n",
       "      <th>px_width</th>\n",
       "      <th>ram</th>\n",
       "      <th>sc_h</th>\n",
       "      <th>sc_w</th>\n",
       "      <th>talk_time</th>\n",
       "      <th>three_g</th>\n",
       "      <th>touch_screen</th>\n",
       "      <th>wifi</th>\n",
       "      <th>price_range</th>\n",
       "    </tr>\n",
       "  </thead>\n",
       "  <tbody>\n",
       "    <tr>\n",
       "      <th>0</th>\n",
       "      <td>842</td>\n",
       "      <td>0</td>\n",
       "      <td>2.2</td>\n",
       "      <td>0</td>\n",
       "      <td>1</td>\n",
       "      <td>0</td>\n",
       "      <td>7</td>\n",
       "      <td>0.6</td>\n",
       "      <td>188</td>\n",
       "      <td>2</td>\n",
       "      <td>2</td>\n",
       "      <td>20</td>\n",
       "      <td>756</td>\n",
       "      <td>2549</td>\n",
       "      <td>9</td>\n",
       "      <td>7</td>\n",
       "      <td>19</td>\n",
       "      <td>0</td>\n",
       "      <td>0</td>\n",
       "      <td>1</td>\n",
       "      <td>1</td>\n",
       "    </tr>\n",
       "    <tr>\n",
       "      <th>1</th>\n",
       "      <td>1021</td>\n",
       "      <td>1</td>\n",
       "      <td>0.5</td>\n",
       "      <td>1</td>\n",
       "      <td>0</td>\n",
       "      <td>1</td>\n",
       "      <td>53</td>\n",
       "      <td>0.7</td>\n",
       "      <td>136</td>\n",
       "      <td>3</td>\n",
       "      <td>6</td>\n",
       "      <td>905</td>\n",
       "      <td>1988</td>\n",
       "      <td>2631</td>\n",
       "      <td>17</td>\n",
       "      <td>3</td>\n",
       "      <td>7</td>\n",
       "      <td>1</td>\n",
       "      <td>1</td>\n",
       "      <td>0</td>\n",
       "      <td>2</td>\n",
       "    </tr>\n",
       "    <tr>\n",
       "      <th>2</th>\n",
       "      <td>563</td>\n",
       "      <td>1</td>\n",
       "      <td>0.5</td>\n",
       "      <td>1</td>\n",
       "      <td>2</td>\n",
       "      <td>1</td>\n",
       "      <td>41</td>\n",
       "      <td>0.9</td>\n",
       "      <td>145</td>\n",
       "      <td>5</td>\n",
       "      <td>6</td>\n",
       "      <td>1263</td>\n",
       "      <td>1716</td>\n",
       "      <td>2603</td>\n",
       "      <td>11</td>\n",
       "      <td>2</td>\n",
       "      <td>9</td>\n",
       "      <td>1</td>\n",
       "      <td>1</td>\n",
       "      <td>0</td>\n",
       "      <td>2</td>\n",
       "    </tr>\n",
       "    <tr>\n",
       "      <th>3</th>\n",
       "      <td>615</td>\n",
       "      <td>1</td>\n",
       "      <td>2.5</td>\n",
       "      <td>0</td>\n",
       "      <td>0</td>\n",
       "      <td>0</td>\n",
       "      <td>10</td>\n",
       "      <td>0.8</td>\n",
       "      <td>131</td>\n",
       "      <td>6</td>\n",
       "      <td>9</td>\n",
       "      <td>1216</td>\n",
       "      <td>1786</td>\n",
       "      <td>2769</td>\n",
       "      <td>16</td>\n",
       "      <td>8</td>\n",
       "      <td>11</td>\n",
       "      <td>1</td>\n",
       "      <td>0</td>\n",
       "      <td>0</td>\n",
       "      <td>2</td>\n",
       "    </tr>\n",
       "    <tr>\n",
       "      <th>4</th>\n",
       "      <td>1821</td>\n",
       "      <td>1</td>\n",
       "      <td>1.2</td>\n",
       "      <td>0</td>\n",
       "      <td>13</td>\n",
       "      <td>1</td>\n",
       "      <td>44</td>\n",
       "      <td>0.6</td>\n",
       "      <td>141</td>\n",
       "      <td>2</td>\n",
       "      <td>14</td>\n",
       "      <td>1208</td>\n",
       "      <td>1212</td>\n",
       "      <td>1411</td>\n",
       "      <td>8</td>\n",
       "      <td>2</td>\n",
       "      <td>15</td>\n",
       "      <td>1</td>\n",
       "      <td>1</td>\n",
       "      <td>0</td>\n",
       "      <td>1</td>\n",
       "    </tr>\n",
       "  </tbody>\n",
       "</table>\n",
       "</div>"
      ],
      "text/plain": [
       "   battery_power  blue  clock_speed  ...  touch_screen  wifi  price_range\n",
       "0            842     0          2.2  ...             0     1            1\n",
       "1           1021     1          0.5  ...             1     0            2\n",
       "2            563     1          0.5  ...             1     0            2\n",
       "3            615     1          2.5  ...             0     0            2\n",
       "4           1821     1          1.2  ...             1     0            1\n",
       "\n",
       "[5 rows x 21 columns]"
      ]
     },
     "execution_count": 14,
     "metadata": {
      "tags": []
     },
     "output_type": "execute_result"
    }
   ],
   "source": [
    "data = pd.read_csv(\"../mobiles.csv\")\n",
    "data.head()"
   ]
  },
  {
   "cell_type": "code",
   "execution_count": 12,
   "metadata": {
    "colab": {
     "base_uri": "https://localhost:8080/"
    },
    "executionInfo": {
     "elapsed": 604,
     "status": "ok",
     "timestamp": 1614084386953,
     "user": {
      "displayName": "Julen Dataset",
      "photoUrl": "https://lh3.googleusercontent.com/a-/AOh14Giq-f3rSLaK9Xg9nPactpHfZnUh2cXH6YeJHUem=s64",
      "userId": "13639526373996704721"
     },
     "user_tz": -60
    },
    "id": "s0FFq5nan0DA",
    "outputId": "4af49a14-51e4-48bc-b0a8-29c42a0f6995"
   },
   "outputs": [
    {
     "name": "stdout",
     "output_type": "stream",
     "text": [
      "Drive already mounted at /content/drive; to attempt to forcibly remount, call drive.mount(\"/content/drive\", force_remount=True).\n"
     ]
    }
   ],
   "source": [
    "from google.colab import drive\n",
    "drive.mount('/content/drive')"
   ]
  },
  {
   "cell_type": "code",
   "execution_count": null,
   "metadata": {
    "id": "pi9wp6gcnBVU"
   },
   "outputs": [],
   "source": [
    "# Modificamos los datos de DataFrame a una matriz de numpy"
   ]
  },
  {
   "cell_type": "code",
   "execution_count": null,
   "metadata": {
    "id": "o-ilgNBrnBVU"
   },
   "outputs": [],
   "source": [
    "features = data.iloc[:,:20].values\n",
    "labels = data.iloc[:,20:21].values"
   ]
  },
  {
   "cell_type": "code",
   "execution_count": null,
   "metadata": {
    "id": "IWWdZLHKnBVV",
    "outputId": "b557e796-14e2-449e-97f6-592d6c09de3a"
   },
   "outputs": [
    {
     "data": {
      "text/plain": [
       "array([[8.420e+02, 0.000e+00, 2.200e+00, ..., 0.000e+00, 0.000e+00,\n",
       "        1.000e+00],\n",
       "       [1.021e+03, 1.000e+00, 5.000e-01, ..., 1.000e+00, 1.000e+00,\n",
       "        0.000e+00],\n",
       "       [5.630e+02, 1.000e+00, 5.000e-01, ..., 1.000e+00, 1.000e+00,\n",
       "        0.000e+00],\n",
       "       ...,\n",
       "       [1.911e+03, 0.000e+00, 9.000e-01, ..., 1.000e+00, 1.000e+00,\n",
       "        0.000e+00],\n",
       "       [1.512e+03, 0.000e+00, 9.000e-01, ..., 1.000e+00, 1.000e+00,\n",
       "        1.000e+00],\n",
       "       [5.100e+02, 1.000e+00, 2.000e+00, ..., 1.000e+00, 1.000e+00,\n",
       "        1.000e+00]])"
      ]
     },
     "execution_count": 8,
     "metadata": {
      "tags": []
     },
     "output_type": "execute_result"
    }
   ],
   "source": [
    "features"
   ]
  },
  {
   "cell_type": "markdown",
   "metadata": {
    "id": "koBjHzb_nBVV"
   },
   "source": [
    "## Preprocesado"
   ]
  },
  {
   "cell_type": "markdown",
   "metadata": {
    "id": "rQQnNR0-nBVV"
   },
   "source": [
    "Deben estar en formato numérico"
   ]
  },
  {
   "cell_type": "markdown",
   "metadata": {
    "id": "ockgX7x2nBVW"
   },
   "source": [
    "Recomendable dentro del rango [0 1] (StandarScale)"
   ]
  },
  {
   "cell_type": "markdown",
   "metadata": {
    "id": "vHAZ_uRrnBVW"
   },
   "source": [
    "Binarizar las clases (OneHotEncoder)"
   ]
  },
  {
   "cell_type": "code",
   "execution_count": null,
   "metadata": {
    "id": "xZQnwhPInBVW"
   },
   "outputs": [],
   "source": [
    "from sklearn.preprocessing import StandardScaler\n",
    "sc = StandardScaler()\n",
    "features = sc.fit_transform(features)"
   ]
  },
  {
   "cell_type": "code",
   "execution_count": null,
   "metadata": {
    "id": "GZSlq-xrnBVW"
   },
   "outputs": [],
   "source": [
    "from sklearn.preprocessing import OneHotEncoder\n",
    "ohe = OneHotEncoder()\n",
    "labels = ohe.fit_transform(labels).toarray()"
   ]
  },
  {
   "cell_type": "code",
   "execution_count": null,
   "metadata": {
    "id": "9rDQieRznBVX",
    "outputId": "e02062cb-bc8e-461b-d38a-01c7fecca57b"
   },
   "outputs": [
    {
     "data": {
      "text/plain": [
       "4"
      ]
     },
     "execution_count": 11,
     "metadata": {
      "tags": []
     },
     "output_type": "execute_result"
    }
   ],
   "source": [
    "len(set(data[\"price_range\"]))"
   ]
  },
  {
   "cell_type": "code",
   "execution_count": null,
   "metadata": {
    "id": "wNFqd3knnBVX"
   },
   "outputs": [],
   "source": [
    "# División train y test, dejamos un 20 % para test"
   ]
  },
  {
   "cell_type": "code",
   "execution_count": null,
   "metadata": {
    "id": "vRnbcj1CnBVX"
   },
   "outputs": [],
   "source": [
    "train_x, test_x, train_y, test_y = train_test_split(features, labels, test_size=0.2)"
   ]
  },
  {
   "cell_type": "markdown",
   "metadata": {
    "id": "MC_gMgsInBVY"
   },
   "source": [
    "## Diseño del modelo"
   ]
  },
  {
   "cell_type": "markdown",
   "metadata": {
    "id": "kA3O8dUrnBVY"
   },
   "source": [
    "Diseño del modelo con 4 capas ocultas, 20, 45, 10, 20 neuronas. Función de activación 'relu' y función de activación en la capa de salida 'softmax'"
   ]
  },
  {
   "cell_type": "code",
   "execution_count": null,
   "metadata": {
    "id": "kKhdnhOTnBVY"
   },
   "outputs": [],
   "source": [
    "model = Sequential()\n",
    "model.add(Dense(20,  activation='relu'))\n",
    "model.add(Dense(45, activation='relu'))\n",
    "model.add(Dense(10, activation='relu'))\n",
    "model.add(Dense(20, activation='relu'))\n",
    "model.add(Dense(4, activation='softmax'))"
   ]
  },
  {
   "cell_type": "markdown",
   "metadata": {
    "id": "p5ivxZsWnBVY"
   },
   "source": [
    "Compilamos el modelo con una función de pérdida de validación cruzada binaria y una función de optimización Adam, con una velocidad de aprendizaje de 0.2 y una métrica Accuracy"
   ]
  },
  {
   "cell_type": "code",
   "execution_count": null,
   "metadata": {
    "id": "Q5gLY3Z-nBVY",
    "outputId": "5982c26e-11ee-462f-a48a-dbbe5fb1bf26"
   },
   "outputs": [
    {
     "name": "stdout",
     "output_type": "stream",
     "text": [
      "WARNING:tensorflow:From /opt/anaconda3/lib/python3.7/site-packages/tensorflow/python/ops/resource_variable_ops.py:435: colocate_with (from tensorflow.python.framework.ops) is deprecated and will be removed in a future version.\n",
      "Instructions for updating:\n",
      "Colocations handled automatically by placer.\n"
     ]
    }
   ],
   "source": [
    "model.compile(loss='binary_crossentropy', optimizer=adam(lr=0.2), metrics=['accuracy'])"
   ]
  },
  {
   "cell_type": "markdown",
   "metadata": {
    "id": "4lHkSGFinBVZ"
   },
   "source": [
    "Entrenamos el modelo con 10 épocas. Visualizamos la precisión (accuracy) y la pérdida (loss) del conjunto train y test"
   ]
  },
  {
   "cell_type": "markdown",
   "metadata": {
    "id": "NP3tz610nBVZ"
   },
   "source": [
    "Loss: muestra como está funcionando el modelo para los conjuntos de entrenamiento y test mostrando la suma de los errores cometidos para cada ejemplo."
   ]
  },
  {
   "cell_type": "code",
   "execution_count": null,
   "metadata": {
    "id": "P1NG2fTnnBVZ",
    "outputId": "285e56d6-e44f-46f1-80ca-e70ee9d6df70"
   },
   "outputs": [
    {
     "name": "stdout",
     "output_type": "stream",
     "text": [
      "WARNING:tensorflow:From /opt/anaconda3/lib/python3.7/site-packages/tensorflow/python/ops/math_ops.py:3066: to_int32 (from tensorflow.python.ops.math_ops) is deprecated and will be removed in a future version.\n",
      "Instructions for updating:\n",
      "Use tf.cast instead.\n",
      "Train on 1600 samples, validate on 400 samples\n",
      "Epoch 1/10\n",
      "1600/1600 [==============================] - 0s 239us/step - loss: 0.6102 - accuracy: 0.7445 - val_loss: 0.5652 - val_accuracy: 0.7500\n",
      "Epoch 2/10\n",
      "1600/1600 [==============================] - 0s 51us/step - loss: 0.5664 - accuracy: 0.7500 - val_loss: 0.5730 - val_accuracy: 0.7500\n",
      "Epoch 3/10\n",
      "1600/1600 [==============================] - 0s 50us/step - loss: 0.5683 - accuracy: 0.7500 - val_loss: 0.5662 - val_accuracy: 0.7500\n",
      "Epoch 4/10\n",
      "1600/1600 [==============================] - 0s 47us/step - loss: 0.5686 - accuracy: 0.7500 - val_loss: 0.5612 - val_accuracy: 0.7500\n",
      "Epoch 5/10\n",
      "1600/1600 [==============================] - 0s 51us/step - loss: 0.5650 - accuracy: 0.7500 - val_loss: 0.5733 - val_accuracy: 0.7500\n",
      "Epoch 6/10\n",
      "1600/1600 [==============================] - 0s 52us/step - loss: 0.5656 - accuracy: 0.7500 - val_loss: 0.5713 - val_accuracy: 0.7500\n",
      "Epoch 7/10\n",
      "1600/1600 [==============================] - 0s 47us/step - loss: 0.5683 - accuracy: 0.7500 - val_loss: 0.5638 - val_accuracy: 0.7500\n",
      "Epoch 8/10\n",
      "1600/1600 [==============================] - 0s 50us/step - loss: 0.5692 - accuracy: 0.7500 - val_loss: 0.5693 - val_accuracy: 0.7500\n",
      "Epoch 9/10\n",
      "1600/1600 [==============================] - 0s 51us/step - loss: 0.5705 - accuracy: 0.7500 - val_loss: 0.5638 - val_accuracy: 0.7500\n",
      "Epoch 10/10\n",
      "1600/1600 [==============================] - 0s 52us/step - loss: 0.5648 - accuracy: 0.7500 - val_loss: 0.5682 - val_accuracy: 0.7500\n"
     ]
    }
   ],
   "source": [
    "history = model.fit(train_x, train_y, epochs=10, validation_data = (test_x, test_y))"
   ]
  },
  {
   "cell_type": "code",
   "execution_count": null,
   "metadata": {
    "id": "Rce-4X5cnBVZ"
   },
   "outputs": [],
   "source": [
    "import matplotlib.pyplot as plt\n",
    "def acc_plot(history):\n",
    "    plt.plot(history.history['accuracy'])\n",
    "    plt.plot(history.history['val_accuracy'])\n",
    "    plt.title('Model accuracy')\n",
    "    plt.ylabel('Accuracy')\n",
    "    plt.xlabel('Epoch')\n",
    "    plt.legend(['Train_val', 'Test_val'], loc='upper left')\n",
    "    plt.show()\n",
    "    \n",
    "def loss_plot(history):\n",
    "    plt.plot(history.history['loss'])\n",
    "    plt.plot(history.history['val_loss']) \n",
    "    plt.title('Model loss') \n",
    "    plt.ylabel('Loss') \n",
    "    plt.xlabel('Epoch') \n",
    "    plt.legend(['Train_loss', 'Test_loss'], loc='upper left') \n",
    "    plt.show()"
   ]
  },
  {
   "cell_type": "code",
   "execution_count": null,
   "metadata": {
    "id": "EZhpBcxfnBVa",
    "outputId": "cc6b47ba-0c47-4eae-999c-347017bc0ea0"
   },
   "outputs": [
    {
     "data": {
      "image/png": "[encoded data removed]",
      "text/plain": [
       "<Figure size 432x288 with 1 Axes>"
      ]
     },
     "metadata": {
      "needs_background": "light",
      "tags": []
     },
     "output_type": "display_data"
    },
    {
     "data": {
      "image/png": "[encoded data removed]",
      "text/plain": [
       "<Figure size 432x288 with 1 Axes>"
      ]
     },
     "metadata": {
      "needs_background": "light",
      "tags": []
     },
     "output_type": "display_data"
    }
   ],
   "source": [
    "acc_plot(history)\n",
    "loss_plot(history)"
   ]
  },
  {
   "cell_type": "markdown",
   "metadata": {
    "id": "gESCd7nHnBVa"
   },
   "source": [
    "Este modelo no esta correctamente diseñado, hay un exceso de neuronas en las capas intermediaS, la función de pérdida tiene cuatro clases por lo que no puede ser binary crossentropy, el número de épocas es reducido..."
   ]
  },
  {
   "cell_type": "markdown",
   "metadata": {
    "id": "Xolm8vj2nBVa"
   },
   "source": [
    "Construye nuevos modelos adaptados, tres modelos con una función de pérdida 'categorical_crossentropy'm un optimizador adam con un ratio de aprendizaje lr=0.001 y una métrica accuracy. Modelo 1: [20, 16, 12, 4], Modelo 2: [20, 3, 5, 4], Modelo 3: [20, 512, 250, 4] Visualizalos como en el ejercicio anterior "
   ]
  },
  {
   "cell_type": "code",
   "execution_count": null,
   "metadata": {
    "id": "wZNz8__xnBVa"
   },
   "outputs": [],
   "source": [
    "#Modelo 1\n",
    "model1 = Sequential()\n"
   ]
  },
  {
   "cell_type": "code",
   "execution_count": null,
   "metadata": {
    "id": "TpaipMdBnBVa"
   },
   "outputs": [],
   "source": []
  },
  {
   "cell_type": "code",
   "execution_count": null,
   "metadata": {
    "id": "oaEHZosAnBVb"
   },
   "outputs": [],
   "source": [
    "#Model 2\n",
    "model2 = Sequential()\n"
   ]
  },
  {
   "cell_type": "code",
   "execution_count": null,
   "metadata": {
    "id": "YM7TKeZrnBVb"
   },
   "outputs": [],
   "source": []
  },
  {
   "cell_type": "code",
   "execution_count": null,
   "metadata": {
    "id": "_wvD5ASWnBVb"
   },
   "outputs": [],
   "source": [
    "#Model 3\n",
    "model3 = Sequential()\n"
   ]
  },
  {
   "cell_type": "code",
   "execution_count": null,
   "metadata": {
    "id": "lXCk0aRwnBVb"
   },
   "outputs": [],
   "source": []
  },
  {
   "cell_type": "markdown",
   "metadata": {
    "id": "MhnkxBoxnBVb"
   },
   "source": [
    "Visualizamos en el mismo gráfico la pérdida (loss) de train y test con los tres modelos de forma simultanea"
   ]
  },
  {
   "cell_type": "code",
   "execution_count": null,
   "metadata": {
    "id": "slwXJuZpnBVb",
    "outputId": "c0ec2d81-dce3-4543-bc11-852a01fe8ec3"
   },
   "outputs": [
    {
     "data": {
      "image/png": "[encoded data removed]",
      "text/plain": [
       "<Figure size 432x288 with 1 Axes>"
      ]
     },
     "metadata": {
      "needs_background": "light",
      "tags": []
     },
     "output_type": "display_data"
    }
   ],
   "source": [
    "plt.plot(history1.history['loss'])\n",
    "plt.plot(history1.history['val_loss'])\n",
    "plt.plot(history2.history['loss'])\n",
    "plt.plot(history2.history['val_loss'])\n",
    "plt.plot(history3.history['loss'])\n",
    "plt.plot(history3.history['val_loss'])\n",
    "plt.title('Model loss')\n",
    "plt.ylabel('Loss')\n",
    "plt.xlabel('Epoch')\n",
    "plt.legend(['Train_val_1', 'Test_val_1','Train_val_2', 'Test_val_2','Train_val_3', 'Test_val_3'], loc='upper right')\n",
    "plt.show()"
   ]
  },
  {
   "cell_type": "markdown",
   "metadata": {
    "id": "J-td0lTjnBVc"
   },
   "source": [
    "## Regularización "
   ]
  },
  {
   "cell_type": "markdown",
   "metadata": {
    "id": "44AYLUn5nBVc"
   },
   "source": [
    "Utilizaremos regularización para procurar evitar el sobre ajuste del modelo utilizando después de cada capa un Dropout del 40 % de probabilidad de mantener la neurona tras cada capa oculta. 'model4.add(Dropout(0.6))' Utiliza de los modelos anteriores aquel que mayor overfitting presenta\n"
   ]
  },
  {
   "cell_type": "code",
   "execution_count": null,
   "metadata": {
    "id": "Q0ewdVZHnBVc"
   },
   "outputs": [],
   "source": [
    "model4 = Sequential()\n"
   ]
  },
  {
   "cell_type": "code",
   "execution_count": null,
   "metadata": {
    "id": "mkvhd23lnBVc",
    "outputId": "294ffb92-502b-4efd-80b0-738a0e591f64"
   },
   "outputs": [
    {
     "data": {
      "image/png": "[encoded data removed]",
      "text/plain": [
       "<Figure size 432x288 with 1 Axes>"
      ]
     },
     "metadata": {
      "needs_background": "light",
      "tags": []
     },
     "output_type": "display_data"
    }
   ],
   "source": [
    "plt.plot(history3.history['loss'])\n",
    "plt.plot(history3.history['val_loss'])\n",
    "plt.plot(history4.history['loss'])\n",
    "plt.plot(history4.history['val_loss'])\n",
    "plt.title('Model loss')\n",
    "plt.ylabel('Loss')\n",
    "plt.xlabel('Epoch')\n",
    "plt.legend(['Train_val_3', 'Test_val_3','Train_val_4', 'Test_val_4'], loc='upper right')\n",
    "plt.show()"
   ]
  },
  {
   "cell_type": "code",
   "execution_count": null,
   "metadata": {
    "id": "y7c9pmoNnBVc"
   },
   "outputs": [],
   "source": []
  }
 ],
 "metadata": {
  "colab": {
   "name": "PracticaRedes_1_Enunciado.ipynb",
   "provenance": []
  },
  "kernelspec": {
   "display_name": "Python 3",
   "language": "python",
   "name": "python3"
  }
 },
 "nbformat": 4,
 "nbformat_minor": 1
}
